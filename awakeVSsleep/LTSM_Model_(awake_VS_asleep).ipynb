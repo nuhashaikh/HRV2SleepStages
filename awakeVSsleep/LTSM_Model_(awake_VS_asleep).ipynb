{
  "nbformat": 4,
  "nbformat_minor": 0,
  "metadata": {
    "colab": {
      "provenance": []
    },
    "kernelspec": {
      "name": "python3",
      "display_name": "Python 3"
    },
    "language_info": {
      "name": "python"
    }
  },
  "cells": [
    {
      "cell_type": "code",
      "execution_count": null,
      "metadata": {
        "id": "IItbLHQxEUhY"
      },
      "outputs": [],
      "source": [
        "import os\n",
        "import pandas as pd\n",
        "import numpy as np\n",
        "from sklearn.model_selection import train_test_split\n",
        "from sklearn.preprocessing import LabelEncoder, StandardScaler\n",
        "from sklearn.metrics import accuracy_score\n",
        "import tensorflow as tf\n",
        "from keras.models import Sequential\n",
        "from keras.layers import LSTM, Dense, Flatten\n",
        "from keras.callbacks import EarlyStopping"
      ]
    },
    {
      "cell_type": "code",
      "source": [
        "from google.colab import drive\n",
        "drive.mount('/content/drive')"
      ],
      "metadata": {
        "colab": {
          "base_uri": "https://localhost:8080/"
        },
        "id": "3GTYBn-iMWrg",
        "outputId": "daeca268-471f-4bd7-969c-96afc1484a3b"
      },
      "execution_count": null,
      "outputs": [
        {
          "output_type": "stream",
          "name": "stdout",
          "text": [
            "Mounted at /content/drive\n"
          ]
        }
      ]
    },
    {
      "cell_type": "code",
      "source": [
        "# Set the path to your data directory\n",
        "data_directory = '/content/drive/My Drive/data'\n",
        "# Function to calculate SDNN from heart rate data\n",
        "def calculate_sdnn(heart_rate_values, window_size=5):\n",
        "    # Convert heart rate to RR intervals (assuming constant heart rate for simplicity)\n",
        "    rr_intervals = 60 / heart_rate_values  # since values are in bpm\n",
        "\n",
        "    # Calculate SDNN over a moving window\n",
        "    sdnn_values = []\n",
        "    for i in range(len(rr_intervals) - window_size + 1):\n",
        "        sdnn_values.append(np.std(rr_intervals[i:i+window_size]))\n",
        "\n",
        "    return np.array(sdnn_values)\n",
        "\n",
        "# Modified function to load and preprocess heart rate data\n",
        "def load_and_preprocess_heartrate(subject_id):\n",
        "    file_path = os.path.join(data_directory, 'heart_rate', f'{subject_id}_heartrate.txt')\n",
        "    data = pd.read_csv(file_path, header=None, names=['date', 'heartrate'])\n",
        "    heartrate_values = data['heartrate']\n",
        "\n",
        "    # Calculate SDNN from heart rate data\n",
        "    sdnn_values = calculate_sdnn(heartrate_values)\n",
        "\n",
        "    return sdnn_values\n",
        "\n",
        "def load_labeled_sleep(subject_id):\n",
        "    file_path = os.path.join(data_directory, 'labels', f'{subject_id}_labeled_sleep.txt')\n",
        "    data = pd.read_csv(file_path, header=None, delim_whitespace=True, names=['date', 'stage'])\n",
        "    # Encode sleep labels as binary values: 1 for awake (label=0), 0 for asleep (labels 1-5)\n",
        "    return (data['stage'] == 0).astype(int).values\n",
        "\n",
        "subject_ids = [file.split('_')[0] for file in os.listdir(os.path.join(data_directory, 'labels')) if '_labeled_sleep.txt' in file]\n",
        "\n",
        "X_heartrate = []\n",
        "y_sleep = []\n",
        "\n",
        "sequence_length = 50\n",
        "\n",
        "for subject_id in subject_ids:\n",
        "    heartrate_values = load_and_preprocess_heartrate(subject_id)\n",
        "    sleep_labels = load_labeled_sleep(subject_id)\n",
        "\n",
        "    for i in range(0, len(heartrate_values) - sequence_length):\n",
        "        X_heartrate.append(heartrate_values[i:i+sequence_length])\n",
        "        y_sleep.append(sleep_labels[min(i+sequence_length-1, len(sleep_labels)-1)])"
      ],
      "metadata": {
        "id": "jgdSFr11Ec95"
      },
      "execution_count": null,
      "outputs": []
    },
    {
      "cell_type": "code",
      "source": [
        "X_heartrate = np.array(X_heartrate)\n",
        "y_sleep = np.array(y_sleep)\n",
        "\n",
        "label_encoder = LabelEncoder()\n",
        "y_sleep = label_encoder.fit_transform(y_sleep)\n",
        "\n",
        "scaler = StandardScaler()\n",
        "X_heartrate_scaled = scaler.fit_transform(X_heartrate)\n",
        "\n",
        "X_train, X_test, y_train, y_test = train_test_split(\n",
        "    X_heartrate_scaled, y_sleep, test_size=0.1, random_state=42\n",
        ")\n"
      ],
      "metadata": {
        "id": "5Lq9btTbEj7o"
      },
      "execution_count": null,
      "outputs": []
    },
    {
      "cell_type": "code",
      "source": [
        "# Model architecture\n",
        "num_classes = 1  # Binary classification: awake or asleep\n",
        "model = Sequential([\n",
        "    LSTM(units=100, input_shape=(sequence_length, 1), return_sequences=True),\n",
        "    LSTM(units=50, return_sequences=True),\n",
        "    Flatten(),\n",
        "    Dense(64, activation='relu'),\n",
        "    Dense(num_classes, activation='sigmoid')  # Sigmoid activation for binary classification\n",
        "])\n",
        "\n",
        "# Model compilation\n",
        "model.compile(optimizer='adam', loss='binary_crossentropy', metrics=['accuracy'])\n",
        "\n",
        "# Early stopping callback\n",
        "early_stopping = EarlyStopping(patience=3, restore_best_weights=True)"
      ],
      "metadata": {
        "id": "pfyn98VKEmXZ"
      },
      "execution_count": null,
      "outputs": []
    },
    {
      "cell_type": "code",
      "source": [
        "# Model training\n",
        "history = model.fit(\n",
        "    X_train[..., np.newaxis],  # Expand dimension for LSTM input shape\n",
        "    y_train,\n",
        "    epochs=20,\n",
        "    batch_size=32,\n",
        "    validation_split=0.1,\n",
        "    callbacks=[early_stopping]\n",
        ")\n",
        "\n",
        "# Model evaluation\n",
        "y_pred = model.predict(X_test[..., np.newaxis])\n",
        "y_pred_classes = (y_pred > 0.5).astype(int)  # Convert probabilities to binary classes\n",
        "accuracy = accuracy_score(y_test, y_pred_classes)\n",
        "print(\"Test Accuracy:\", accuracy)\n"
      ],
      "metadata": {
        "id": "MUAD4haREqiH",
        "colab": {
          "base_uri": "https://localhost:8080/"
        },
        "outputId": "662e4f12-e31f-4036-ad66-0296a97b2089"
      },
      "execution_count": null,
      "outputs": [
        {
          "output_type": "stream",
          "name": "stdout",
          "text": [
            "Epoch 1/20\n",
            "6398/6398 [==============================] - 427s 66ms/step - loss: 0.5457 - accuracy: 0.7642 - val_loss: 0.5439 - val_accuracy: 0.7620\n",
            "Epoch 2/20\n",
            "6398/6398 [==============================] - 421s 66ms/step - loss: 0.5396 - accuracy: 0.7656 - val_loss: 0.5332 - val_accuracy: 0.7680\n",
            "Epoch 3/20\n",
            "6398/6398 [==============================] - 425s 66ms/step - loss: 0.5175 - accuracy: 0.7766 - val_loss: 0.5038 - val_accuracy: 0.7829\n",
            "Epoch 4/20\n",
            "6398/6398 [==============================] - 427s 67ms/step - loss: 0.4690 - accuracy: 0.7995 - val_loss: 0.4353 - val_accuracy: 0.8131\n",
            "Epoch 5/20\n",
            "6398/6398 [==============================] - 423s 66ms/step - loss: 0.3941 - accuracy: 0.8341 - val_loss: 0.3580 - val_accuracy: 0.8509\n",
            "Epoch 6/20\n",
            "6398/6398 [==============================] - 417s 65ms/step - loss: 0.3210 - accuracy: 0.8683 - val_loss: 0.2995 - val_accuracy: 0.8756\n",
            "Epoch 7/20\n",
            "6398/6398 [==============================] - 423s 66ms/step - loss: 0.2570 - accuracy: 0.8949 - val_loss: 0.2416 - val_accuracy: 0.9017\n",
            "Epoch 8/20\n",
            "6398/6398 [==============================] - 420s 66ms/step - loss: 0.2082 - accuracy: 0.9155 - val_loss: 0.2085 - val_accuracy: 0.9148\n",
            "Epoch 9/20\n",
            "6398/6398 [==============================] - 424s 66ms/step - loss: 0.1719 - accuracy: 0.9288 - val_loss: 0.1776 - val_accuracy: 0.9288\n",
            "Epoch 10/20\n",
            "6398/6398 [==============================] - 422s 66ms/step - loss: 0.1471 - accuracy: 0.9390 - val_loss: 0.1696 - val_accuracy: 0.9286\n",
            "Epoch 11/20\n",
            "6398/6398 [==============================] - 421s 66ms/step - loss: 0.1249 - accuracy: 0.9483 - val_loss: 0.1384 - val_accuracy: 0.9465\n",
            "Epoch 12/20\n",
            "6398/6398 [==============================] - 414s 65ms/step - loss: 0.1093 - accuracy: 0.9552 - val_loss: 0.1220 - val_accuracy: 0.9526\n",
            "Epoch 13/20\n",
            "6398/6398 [==============================] - 416s 65ms/step - loss: 0.0949 - accuracy: 0.9616 - val_loss: 0.1160 - val_accuracy: 0.9571\n",
            "Epoch 14/20\n",
            "6398/6398 [==============================] - 418s 65ms/step - loss: 0.0842 - accuracy: 0.9663 - val_loss: 0.0897 - val_accuracy: 0.9658\n",
            "Epoch 15/20\n",
            "6398/6398 [==============================] - 415s 65ms/step - loss: 0.0736 - accuracy: 0.9709 - val_loss: 0.1042 - val_accuracy: 0.9650\n",
            "Epoch 16/20\n",
            "6398/6398 [==============================] - 437s 68ms/step - loss: 0.0669 - accuracy: 0.9734 - val_loss: 0.0799 - val_accuracy: 0.9729\n",
            "Epoch 17/20\n",
            "6398/6398 [==============================] - 436s 68ms/step - loss: 0.0595 - accuracy: 0.9768 - val_loss: 0.0847 - val_accuracy: 0.9700\n",
            "Epoch 18/20\n",
            "6398/6398 [==============================] - 415s 65ms/step - loss: 0.0542 - accuracy: 0.9788 - val_loss: 0.0782 - val_accuracy: 0.9742\n",
            "Epoch 19/20\n",
            "6398/6398 [==============================] - 420s 66ms/step - loss: 0.0498 - accuracy: 0.9810 - val_loss: 0.0809 - val_accuracy: 0.9725\n",
            "Epoch 20/20\n",
            "6398/6398 [==============================] - 418s 65ms/step - loss: 0.0455 - accuracy: 0.9822 - val_loss: 0.0725 - val_accuracy: 0.9755\n",
            "790/790 [==============================] - 18s 21ms/step\n",
            "Test Accuracy: 0.9762620667827188\n"
          ]
        }
      ]
    },
    {
      "cell_type": "code",
      "source": [
        "from sklearn.metrics import roc_curve, auc\n",
        "import matplotlib.pyplot as plt\n",
        "\n",
        "# Calculate ROC curve\n",
        "fpr, tpr, thresholds = roc_curve(y_test, y_pred)\n",
        "\n",
        "# Calculate AUC (Area Under the Curve)\n",
        "roc_auc = auc(fpr, tpr)\n",
        "\n",
        "# Plot ROC curve\n",
        "plt.figure()\n",
        "plt.plot(fpr, tpr, color='darkorange', lw=2, label='ROC curve (area = %0.2f)' % roc_auc)\n",
        "plt.plot([0, 1], [0, 1], color='navy', lw=2, linestyle='--')\n",
        "plt.xlim([0.0, 1.0])\n",
        "plt.ylim([0.0, 1.05])\n",
        "plt.xlabel('False Positive Rate')\n",
        "plt.ylabel('True Positive Rate')\n",
        "plt.title('Receiver Operating Characteristic (ROC)')\n",
        "plt.legend(loc=\"lower right\")\n",
        "plt.show()\n"
      ],
      "metadata": {
        "colab": {
          "base_uri": "https://localhost:8080/"
        },
        "id": "aW1evbiqB8z2",
        "outputId": "e45445c0-3112-43ef-f8dd-a1233f6765ed"
      },
      "execution_count": null,
      "outputs": [
        {
          "output_type": "display_data",
          "data": {
            "text/plain": [
              "<Figure size 640x480 with 1 Axes>"
            ],
            "image/png": "[encoded data removed]"
          },
          "metadata": {}
        }
      ]
    }
  ]
}